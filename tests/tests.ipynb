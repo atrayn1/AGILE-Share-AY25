{
 "cells": [
  {
   "cell_type": "code",
   "execution_count": 4,
   "metadata": {},
   "outputs": [],
   "source": [
    "import pickle\n",
    "import pandas as pd\n",
    "import os\n",
    "import streamlit as st\n",
    "import altair as alt\n",
    "import datetime\n",
    "import matplotlib.pyplot as plt\n",
    "from matplotlib.dates import DateFormatter\n",
    "import numpy as np\n",
    "import folium"
   ]
  },
  {
   "cell_type": "code",
   "execution_count": 3,
   "metadata": {},
   "outputs": [
    {
     "name": "stderr",
     "output_type": "stream",
     "text": [
      "/tmp/ipykernel_499416/325658165.py:1: DtypeWarning: Columns (8,9) have mixed types. Specify dtype option on import or set low_memory=False.\n",
      "  df = pd.read_csv('../data/test_location_data_gh.csv')\n"
     ]
    },
    {
     "data": {
      "text/html": [
       "<div>\n",
       "<style scoped>\n",
       "    .dataframe tbody tr th:only-of-type {\n",
       "        vertical-align: middle;\n",
       "    }\n",
       "\n",
       "    .dataframe tbody tr th {\n",
       "        vertical-align: top;\n",
       "    }\n",
       "\n",
       "    .dataframe thead th {\n",
       "        text-align: right;\n",
       "    }\n",
       "</style>\n",
       "<table border=\"1\" class=\"dataframe\">\n",
       "  <thead>\n",
       "    <tr style=\"text-align: right;\">\n",
       "      <th></th>\n",
       "      <th>Unnamed: 0</th>\n",
       "      <th>advertiser_id</th>\n",
       "      <th>datetime</th>\n",
       "      <th>latitude</th>\n",
       "      <th>longitude</th>\n",
       "      <th>horizontal_accuracy</th>\n",
       "      <th>carrier</th>\n",
       "      <th>model</th>\n",
       "      <th>wifi_ssid</th>\n",
       "      <th>wifi_bssid</th>\n",
       "      <th>geohash</th>\n",
       "    </tr>\n",
       "  </thead>\n",
       "  <tbody>\n",
       "    <tr>\n",
       "      <th>0</th>\n",
       "      <td>0</td>\n",
       "      <td>54aa7153-1546-ce0d-5dc9-aa9e8e371f00</td>\n",
       "      <td>2018-04-08 00:00:00</td>\n",
       "      <td>46.232380</td>\n",
       "      <td>-119.222652</td>\n",
       "      <td>4.20</td>\n",
       "      <td>55</td>\n",
       "      <td>Note 6</td>\n",
       "      <td>NaN</td>\n",
       "      <td>NaN</td>\n",
       "      <td>c25pp02e</td>\n",
       "    </tr>\n",
       "    <tr>\n",
       "      <th>1</th>\n",
       "      <td>1</td>\n",
       "      <td>07e28697-2930-a575-6c51-2267182152f8</td>\n",
       "      <td>2018-04-08 00:00:00</td>\n",
       "      <td>46.352059</td>\n",
       "      <td>-119.323855</td>\n",
       "      <td>33.95</td>\n",
       "      <td>55</td>\n",
       "      <td>Lumia 638</td>\n",
       "      <td>NaN</td>\n",
       "      <td>NaN</td>\n",
       "      <td>c25pswph</td>\n",
       "    </tr>\n",
       "    <tr>\n",
       "      <th>2</th>\n",
       "      <td>2</td>\n",
       "      <td>c0371365-e342-9427-0688-47938aeea976</td>\n",
       "      <td>2018-04-08 00:00:00</td>\n",
       "      <td>46.268433</td>\n",
       "      <td>-119.270122</td>\n",
       "      <td>1.74</td>\n",
       "      <td>55</td>\n",
       "      <td>S5</td>\n",
       "      <td>NaN</td>\n",
       "      <td>NaN</td>\n",
       "      <td>c25pjyyj</td>\n",
       "    </tr>\n",
       "    <tr>\n",
       "      <th>3</th>\n",
       "      <td>3</td>\n",
       "      <td>3594f123-214f-1763-b7f1-395350c00190</td>\n",
       "      <td>2018-04-08 00:00:00</td>\n",
       "      <td>46.265100</td>\n",
       "      <td>-119.268490</td>\n",
       "      <td>41.55</td>\n",
       "      <td>55</td>\n",
       "      <td>XL</td>\n",
       "      <td>NaN</td>\n",
       "      <td>NaN</td>\n",
       "      <td>c25pjyr3</td>\n",
       "    </tr>\n",
       "    <tr>\n",
       "      <th>4</th>\n",
       "      <td>4</td>\n",
       "      <td>340ccc1c-9398-bbe6-599b-0f15913f4269</td>\n",
       "      <td>2018-04-08 00:00:00</td>\n",
       "      <td>46.274329</td>\n",
       "      <td>-119.273700</td>\n",
       "      <td>3.20</td>\n",
       "      <td>55</td>\n",
       "      <td>V20</td>\n",
       "      <td>NaN</td>\n",
       "      <td>NaN</td>\n",
       "      <td>c25pjzgx</td>\n",
       "    </tr>\n",
       "  </tbody>\n",
       "</table>\n",
       "</div>"
      ],
      "text/plain": [
       "   Unnamed: 0                         advertiser_id             datetime  \\\n",
       "0           0  54aa7153-1546-ce0d-5dc9-aa9e8e371f00  2018-04-08 00:00:00   \n",
       "1           1  07e28697-2930-a575-6c51-2267182152f8  2018-04-08 00:00:00   \n",
       "2           2  c0371365-e342-9427-0688-47938aeea976  2018-04-08 00:00:00   \n",
       "3           3  3594f123-214f-1763-b7f1-395350c00190  2018-04-08 00:00:00   \n",
       "4           4  340ccc1c-9398-bbe6-599b-0f15913f4269  2018-04-08 00:00:00   \n",
       "\n",
       "    latitude   longitude  horizontal_accuracy  carrier      model wifi_ssid  \\\n",
       "0  46.232380 -119.222652                 4.20       55     Note 6       NaN   \n",
       "1  46.352059 -119.323855                33.95       55  Lumia 638       NaN   \n",
       "2  46.268433 -119.270122                 1.74       55         S5       NaN   \n",
       "3  46.265100 -119.268490                41.55       55         XL       NaN   \n",
       "4  46.274329 -119.273700                 3.20       55        V20       NaN   \n",
       "\n",
       "  wifi_bssid   geohash  \n",
       "0        NaN  c25pp02e  \n",
       "1        NaN  c25pswph  \n",
       "2        NaN  c25pjyyj  \n",
       "3        NaN  c25pjyr3  \n",
       "4        NaN  c25pjzgx  "
      ]
     },
     "execution_count": 3,
     "metadata": {},
     "output_type": "execute_result"
    }
   ],
   "source": [
    "df = pd.read_csv('../data/test_location_data_gh.csv')\n",
    "df.head()"
   ]
  },
  {
   "cell_type": "code",
   "execution_count": 7,
   "metadata": {},
   "outputs": [
    {
     "data": {
      "text/plain": [
       "advertiser_id\n",
       "0002593a-6852-105d-9340-e895381c8d33       1\n",
       "4a1b44fb-2d93-c966-d3c1-108180257543       1\n",
       "499f2585-19b0-3399-e9fd-51650980a169       1\n",
       "49426c91-5da5-86a5-194a-4f3c10847559       1\n",
       "49066264-5722-d2ec-b0d3-1862981df5e3       1\n",
       "                                        ... \n",
       "504e2247-6853-4613-983e-360795670f70    1705\n",
       "4a184d31-a827-5608-a2c8-67f4410ac088    1761\n",
       "7e6744ee-1941-2314-eb37-940822067130    1780\n",
       "8ec08971-a134-6af7-1806-12ba1c0f7350    1980\n",
       "ae4f30b8-85e8-3603-8119-ea45b4965fa6    2073\n",
       "Length: 7575, dtype: int64"
      ]
     },
     "execution_count": 7,
     "metadata": {},
     "output_type": "execute_result"
    }
   ],
   "source": [
    "advertiser_counts = df.groupby('advertiser_id').size().sort_values()\n",
    "advertiser_counts"
   ]
  },
  {
   "cell_type": "code",
   "execution_count": 5,
   "metadata": {},
   "outputs": [],
   "source": [
    "map_center = [df[\"latitude\"].mean(), df[\"longitude\"].mean()]\n",
    "mymap = folium.Map(location=map_center, zoom_start=10)"
   ]
  },
  {
   "cell_type": "code",
   "execution_count": null,
   "metadata": {},
   "outputs": [],
   "source": [
    "for index, row in df.iterrows():\n",
    "    popup_text = f\"Advertiser ID: {row['advertiser_id']}<br>Datetime: {row['datetime']}\"\n",
    "    folium.Marker(location=[row['latitude'], row['longitude']], popup=popup_text).add_to(mymap)"
   ]
  }
 ],
 "metadata": {
  "kernelspec": {
   "display_name": "agile",
   "language": "python",
   "name": "python3"
  },
  "language_info": {
   "codemirror_mode": {
    "name": "ipython",
    "version": 3
   },
   "file_extension": ".py",
   "mimetype": "text/x-python",
   "name": "python",
   "nbconvert_exporter": "python",
   "pygments_lexer": "ipython3",
   "version": "3.11.6"
  }
 },
 "nbformat": 4,
 "nbformat_minor": 2
}
