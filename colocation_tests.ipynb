{
 "cells": [
  {
   "cell_type": "code",
   "execution_count": 1,
   "metadata": {},
   "outputs": [],
   "source": [
    "import streamlit as st\n",
    "import streamlit.components.v1 as components\n",
    "import csv\n",
    "import string\n",
    "import os\n",
    "import pickle\n",
    "import pandas as pd\n",
    "from datetime import datetime as dt\n",
    "from base64 import b64encode\n",
    "#import proximitypyhash as pph\n",
    "#import pygeohash as gh\n",
    "from streamlit_folium import st_folium\n",
    "from streamlit_folium import folium_static\n",
    "import folium\n",
    "import numpy as np\n",
    "\n",
    "from agile.filtering import query_location, query_date, query_adid, query_node\n",
    "from agile.mapping import data_map \n",
    "from agile.locations import locations_of_interest\n",
    "from agile.people import colocation\n",
    "from agile.prediction import double_cluster, get_top_N_clusters, haversine\n",
    "from agile.utils.tag import find_all_nearby_nodes\n",
    "from agile.utils.geocode import reverse_geocode\n",
    "from agile.utils.files import find, random_line, save, random_name\n",
    "from agile.utils.dataframes import modify_and_sort_columns\n",
    "from agile.profile import Profile\n",
    "from agile.samsreport import Report\n",
    "from agile.centrality import compute_top_centrality\n",
    "from agile.overview import adid_value_counts\n",
    "\n",
    "from streamlit_option_menu import option_menu\n",
    "import pygeohash as gh"
   ]
  },
  {
   "cell_type": "code",
   "execution_count": 2,
   "metadata": {},
   "outputs": [],
   "source": [
    "with open('saved_data/saved_df.pkl', 'rb') as file:\n",
    "    df = pickle.load(file)"
   ]
  },
  {
   "cell_type": "code",
   "execution_count": 3,
   "metadata": {},
   "outputs": [],
   "source": [
    "adid = '21191f02-c141-e3f6-901e-f0c9222be423'"
   ]
  },
  {
   "cell_type": "code",
   "execution_count": 10,
   "metadata": {},
   "outputs": [],
   "source": [
    "df = pd.DataFrame(columns=['Colocated IDs'])"
   ]
  },
  {
   "cell_type": "code",
   "execution_count": 11,
   "metadata": {},
   "outputs": [
    {
     "name": "stdout",
     "output_type": "stream",
     "text": [
      "True\n"
     ]
    }
   ],
   "source": [
    "if df.empty:\n",
    "    print(True)"
   ]
  },
  {
   "cell_type": "code",
   "execution_count": null,
   "metadata": {},
   "outputs": [],
   "source": []
  }
 ],
 "metadata": {
  "kernelspec": {
   "display_name": "agile",
   "language": "python",
   "name": "python3"
  },
  "language_info": {
   "codemirror_mode": {
    "name": "ipython",
    "version": 3
   },
   "file_extension": ".py",
   "mimetype": "text/x-python",
   "name": "python",
   "nbconvert_exporter": "python",
   "pygments_lexer": "ipython3",
   "version": "3.11.6"
  }
 },
 "nbformat": 4,
 "nbformat_minor": 2
}
